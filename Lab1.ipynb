{
 "cells": [
  {
   "cell_type": "code",
   "execution_count": 17,
   "metadata": {},
   "outputs": [],
   "source": [
    "import random\n",
    "import time"
   ]
  },
  {
   "cell_type": "code",
   "execution_count": 21,
   "metadata": {},
   "outputs": [],
   "source": [
    "data1 = [random.randint(1,1000) for i in range(1500)]\n",
    "data2 = [random.randint(1,1000) for i in range(3500)]\n",
    "data3 = [random.randint(1,1000) for i in range(6000)]\n",
    "\n",
    "datas = [data1,data2,data3]"
   ]
  },
  {
   "cell_type": "code",
   "execution_count": 11,
   "metadata": {},
   "outputs": [],
   "source": [
    "def selectsort(data):\n",
    "    for i,e in enumerate(data):\n",
    "        mini = min(range(i,len(data)), key = data.__getitem__)\n",
    "        data[i],data[mini] = data[mini], e \n",
    "    return data"
   ]
  },
  {
   "cell_type": "code",
   "execution_count": 8,
   "metadata": {},
   "outputs": [
    {
     "name": "stdout",
     "output_type": "stream",
     "text": [
      "[850, 503, 600, 809, 269, 80, 450, 163, 975, 275, 958, 572, 277, 269, 803, 864, 54, 479, 399, 78]\n"
     ]
    }
   ],
   "source": [
    "datat = [random.randint(1,1000) for i in range(20)]\n",
    "print(datat)"
   ]
  },
  {
   "cell_type": "code",
   "execution_count": 12,
   "metadata": {},
   "outputs": [
    {
     "name": "stdout",
     "output_type": "stream",
     "text": [
      "[54, 78, 80, 163, 269, 269, 275, 277, 399, 450, 479, 503, 572, 600, 803, 809, 850, 864, 958, 975]\n"
     ]
    }
   ],
   "source": [
    "print(selectsort(datat))"
   ]
  },
  {
   "cell_type": "code",
   "execution_count": 22,
   "metadata": {},
   "outputs": [
    {
     "name": "stdout",
     "output_type": "stream",
     "text": [
      "Select sort time for 1500 elements =  0.0229\n",
      "Select sort time for 3500 elements =  0.1226\n",
      "Select sort time for 6000 elements =  0.3494\n"
     ]
    }
   ],
   "source": [
    "for data in datas:\n",
    "    start = time.perf_counter()\n",
    "    res  = selectsort(data)\n",
    "    end = time.perf_counter()\n",
    "\n",
    "    print(f\"Select sort time for {len(data)} elements =  {end-start:0.4f}\")"
   ]
  },
  {
   "cell_type": "code",
   "execution_count": 15,
   "metadata": {},
   "outputs": [],
   "source": [
    "def shellsort(data):\n",
    "    d = len(data)//2\n",
    "    while(d>1):\n",
    "        for i,e in enumerate(data):\n",
    "            while i>=d and data[i-d]>e:\n",
    "                data[i] = data[i-d]\n",
    "                i-=d\n",
    "            data[i] = e\n",
    "        d = 1 if d == 2 else int(d/2)\n",
    "    return data"
   ]
  },
  {
   "cell_type": "code",
   "execution_count": 23,
   "metadata": {},
   "outputs": [],
   "source": [
    "data21 = [random.randint(1,1000) for i in range(3000)]\n",
    "data22 = [random.randint(1,1000) for i in range(7000)]\n",
    "data23 = [random.randint(1,1000) for i in range(12000)]\n",
    "\n",
    "datas2 = [data21,data22,data23]"
   ]
  },
  {
   "cell_type": "code",
   "execution_count": 25,
   "metadata": {},
   "outputs": [
    {
     "name": "stdout",
     "output_type": "stream",
     "text": [
      "Select sort time for 3000 elements =  0.1020 sec\n",
      "Select sort time for 7000 elements =  0.4565 sec\n",
      "Select sort time for 12000 elements =  1.3459 sec\n"
     ]
    }
   ],
   "source": [
    "for data in datas2:\n",
    "    start = time.perf_counter()\n",
    "    res  = selectsort(data)\n",
    "    end = time.perf_counter()\n",
    "\n",
    "    print(f\"Select sort time for {len(data)} elements =  {end-start:0.4f} sec\")"
   ]
  },
  {
   "cell_type": "code",
   "execution_count": 68,
   "metadata": {},
   "outputs": [],
   "source": [
    "class Treee:\n",
    "    def __init__(self, value, key):\n",
    "        self.value = value\n",
    "        self.key = key\n",
    "        self.left = None\n",
    "        self.right = None\n",
    "    def __str__(self):\n",
    "        return f\"Tree {self.key}, value {self.value}\"\n",
    "\n",
    "    def search(self, value):\n",
    "        if value > self.value:\n",
    "            if self.left == None:\n",
    "                return False\n",
    "            else:\n",
    "                return self.left.search(value)\n",
    "        elif value < self.value:\n",
    "            if self.right == None:\n",
    "                return False\n",
    "            else:\n",
    "                return self.right.search(value)\n",
    "        else:\n",
    "            return self.key\n"
   ]
  },
  {
   "cell_type": "code",
   "execution_count": 69,
   "metadata": {},
   "outputs": [],
   "source": [
    "def SearchAlg(tree, value):\n",
    "    if tree.value == value:\n",
    "        return tree\n",
    "    else:\n",
    "        if value >= tree.left.value:\n",
    "            return SearchAlg(tree.left, value)\n",
    "        elif value < tree.right.value:\n",
    "            return SearchAlg(tree.right, value)\n",
    "\n"
   ]
  },
  {
   "cell_type": "code",
   "execution_count": 70,
   "metadata": {},
   "outputs": [],
   "source": [
    "tree = Treee(3, \"tri\")\n",
    "tree.left = Treee(5, \"gosha\")\n",
    "tree.right = Treee(2, \"dima\")\n",
    "tree.left.left = Treee(6, \"sea\")\n",
    "tree.left.right = Treee(4, \"ewe\")\n",
    "tree.right.right = Treee(1, \"nft\")\n",
    "tree.right.left = Treee(2.5, \"float\")"
   ]
  },
  {
   "cell_type": "code",
   "execution_count": 71,
   "metadata": {},
   "outputs": [
    {
     "name": "stdout",
     "output_type": "stream",
     "text": [
      "result = Tree sea, value 6\n",
      "res = sea\n"
     ]
    }
   ],
   "source": [
    "print(f\"result = {SearchAlg(tree,6)}\")\n",
    "print(f\"res = {tree.search(6)}\")\n"
   ]
  },
  {
   "cell_type": "code",
   "execution_count": null,
   "metadata": {},
   "outputs": [],
   "source": []
  }
 ],
 "metadata": {
  "kernelspec": {
   "display_name": "Python 3",
   "language": "python",
   "name": "python3"
  },
  "language_info": {
   "codemirror_mode": {
    "name": "ipython",
    "version": 3
   },
   "file_extension": ".py",
   "mimetype": "text/x-python",
   "name": "python",
   "nbconvert_exporter": "python",
   "pygments_lexer": "ipython3",
   "version": "3.11.5"
  }
 },
 "nbformat": 4,
 "nbformat_minor": 2
}

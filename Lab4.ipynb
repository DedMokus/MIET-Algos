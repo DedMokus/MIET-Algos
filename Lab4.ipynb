{
 "cells": [
  {
   "cell_type": "code",
   "execution_count": 20,
   "metadata": {},
   "outputs": [
    {
     "name": "stdout",
     "output_type": "stream",
     "text": [
      "Path: [0, 1, 3, 2, 4, 0]\n",
      "Total distance: 36\n"
     ]
    }
   ],
   "source": [
    "import numpy as np\n",
    "\n",
    "def find_nearest_unvisited(current_vertex, visited, graph):\n",
    "    distances = graph[current_vertex]\n",
    "    unvisited_vertices = [i for i, visited_status in enumerate(visited) if not visited_status]\n",
    "    nearest_vertex = min(unvisited_vertices, key=lambda vertex: distances[vertex])\n",
    "    return nearest_vertex\n",
    "\n",
    "def tsp_knn(graph, start_vertex=0):\n",
    "    num_vertices = len(graph)\n",
    "    visited = [False] * num_vertices\n",
    "    path = [start_vertex]\n",
    "    visited[start_vertex] = True\n",
    "\n",
    "    for _ in range(num_vertices - 1):\n",
    "        current_vertex = path[-1]\n",
    "        nearest_vertex = find_nearest_unvisited(current_vertex, visited, graph)\n",
    "        path.append(nearest_vertex)\n",
    "        visited[nearest_vertex] = True\n",
    "\n",
    "    # Return to the starting vertex\n",
    "    path.append(start_vertex)\n",
    "\n",
    "    # Calculate the total distance of the path\n",
    "    total_distance = sum(graph[path[i]][path[i+1]] for i in range(len(path) - 1))\n",
    "\n",
    "    return path, total_distance\n",
    "\n",
    "# Example usage\n",
    "graph = [\n",
    "    [0, 7, 12, 25, 10],\n",
    "    [10, 0, 9, 5, 11],\n",
    "    [13, 8, 0, 6, 4],\n",
    "    [6, 11, 15, 0, 15],\n",
    "    [5, 9, 12, 17, 0]\n",
    "]\n",
    "\n",
    "graph2 = [\n",
    "    [0, 5, 7, 9, 6, 3],\n",
    "    [6, 0, 2, 7, 4000, 5],\n",
    "    [3, 4, 0, 8, 7, 4],\n",
    "    [9, 2000, 9, 0, 2, 8],\n",
    "    [4, 9, 3, 9, 0, 1000],\n",
    "    [7, 9, 5, 6, 2, 0]\n",
    "]\n",
    "\n",
    "path, total_distance = tsp_knn(graph)\n",
    "print(f\"Path: {path}\")\n",
    "print(f\"Total distance: {total_distance}\")\n"
   ]
  },
  {
   "cell_type": "code",
   "execution_count": 21,
   "metadata": {},
   "outputs": [
    {
     "name": "stdout",
     "output_type": "stream",
     "text": [
      "Path: [2, 0, 5, 4, 1, 3, 2]\n",
      "Total distance: 33\n"
     ]
    }
   ],
   "source": [
    "path, total_distance = tsp_knn(graph2, start_vertex=2)\n",
    "print(f\"Path: {path}\")\n",
    "print(f\"Total distance: {total_distance}\")"
   ]
  },
  {
   "cell_type": "code",
   "execution_count": 44,
   "metadata": {},
   "outputs": [
    {
     "name": "stdout",
     "output_type": "stream",
     "text": [
      "H101H 0\n"
     ]
    }
   ],
   "source": [
    "N = 1000 # tape length, initialize to a large value\n",
    " \n",
    "class TuringMachine: \n",
    "\n",
    "    def __init__(self, program, input, state=0):\n",
    "        self.trf = {}\n",
    "        self.state = str(state)\n",
    "        self.tape = ''.join(['_']*N)\n",
    "        self.head = N // 2   # head is positioned in the middle\n",
    "        self.tape = self.tape[:self.head] + input + self.tape[self.head:]\n",
    "        for line in program.splitlines():\n",
    "            s, a, r, d, s1 = line.split(' ')\n",
    "            self.trf[s,a] = (r, d, s1)\n",
    "\n",
    "    def step(self):\n",
    "        if self.state != 'H':\n",
    "            # assert self.head >= 0 and self.head < len(self.tape) here\n",
    "            a = self.tape[self.head]\n",
    "            action = self.trf.get((self.state, a))\n",
    "            if action:\n",
    "                r, d, s1 = action\n",
    "                self.tape = self.tape[:self.head] + r + self.tape[self.head+1:]\n",
    "                if d != '*':\n",
    "                    self.head = self.head + (1 if d == 'r' else -1)\n",
    "                self.state = s1\n",
    "                print(self.tape.replace('_', ''), self.state)\n",
    "\n",
    "    '''\n",
    "    run a program\n",
    "    '''\n",
    "    def run(self, max_iter=9999):\n",
    "        iter = 0\n",
    "        while self.state != 'H' and iter < max_iter: # prevent infinite loop\n",
    "            self.step()\n",
    "            iter += 1\n",
    "        print(self.tape.replace('_', ''), self.state)\n",
    "\n",
    "\n",
    "input = \"H101H\"\n",
    "program = open('program.txt').read()\n",
    "tm = TuringMachine(program, input)\n",
    "tm.run()"
   ]
  },
  {
   "cell_type": "code",
   "execution_count": null,
   "metadata": {},
   "outputs": [],
   "source": []
  }
 ],
 "metadata": {
  "kernelspec": {
   "display_name": "Python 3",
   "language": "python",
   "name": "python3"
  },
  "language_info": {
   "codemirror_mode": {
    "name": "ipython",
    "version": 3
   },
   "file_extension": ".py",
   "mimetype": "text/x-python",
   "name": "python",
   "nbconvert_exporter": "python",
   "pygments_lexer": "ipython3",
   "version": "3.11.5"
  }
 },
 "nbformat": 4,
 "nbformat_minor": 2
}
